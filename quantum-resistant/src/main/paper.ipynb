{
 "cells": [
  {
   "cell_type": "markdown",
   "source": [
    "# Квантум-стойкая криптография\n",
    "\n",
    "Вдохновившись <a href='https://www.youtube.com/watch?v=f5slLeCz7p8&ab_channel=VertDider'>видео</a>, я решил реализовать алгоритм асинхронного шифрования сеточным методом. "
   ],
   "metadata": {
    "collapsed": false
   }
  },
  {
   "cell_type": "code",
   "execution_count": 1,
   "outputs": [],
   "source": [
    "import java.security.SecureRandom\n",
    "\n",
    "var srand = SecureRandom()\n",
    "\n",
    "fun randomPrime(min: Int, max: Int): Long {\n",
    "    var i = 0L\n",
    "    return sequence {\n",
    "        generateSequence { i++ }\n",
    "            .filter { n -> n > 1 && ((2 until n).none { i -> n % i == 0L }) }\n",
    "            .forEach { yield(it) }\n",
    "    }.take(srand.nextInt(min, max)).last()\n",
    "}"
   ],
   "metadata": {
    "collapsed": false,
    "ExecuteTime": {
     "end_time": "2023-09-23T12:06:13.738056600Z",
     "start_time": "2023-09-23T12:06:12.877058Z"
    }
   }
  },
  {
   "cell_type": "code",
   "execution_count": 2,
   "outputs": [],
   "source": [
    "open class Key(\n",
    "    val ortOne: DoubleArray,\n",
    "    val ortTwo: DoubleArray\n",
    ")\n",
    "\n",
    "fun createPrivateKey() = Key(\n",
    "    ortOne = doubleArrayOf(0.0, srand.nextDouble()),\n",
    "    ortTwo = doubleArrayOf(srand.nextDouble(), 0.0),\n",
    ")\n",
    "\n",
    "// Сюда бы усложнение\n",
    "fun createPublicKey(privateKey: Key) = Key(\n",
    "    ortOne = privateKey.ortOne.onEach { it * randomPrime(10, 1000) },\n",
    "    ortTwo = privateKey.ortTwo.onEach { it * randomPrime(10, 1000) },\n",
    ")"
   ],
   "metadata": {
    "collapsed": false,
    "ExecuteTime": {
     "end_time": "2023-09-23T12:06:51.515941100Z",
     "start_time": "2023-09-23T12:06:51.167942Z"
    }
   }
  },
  {
   "cell_type": "code",
   "execution_count": 4,
   "outputs": [
    {
     "name": "stdout",
     "output_type": "stream",
     "text": [
      "0.0, 0.2586595473951886;\n",
      "0.6354221398060764, 0.0\r\n"
     ]
    }
   ],
   "source": [
    "val privateKey = createPrivateKey()\n",
    "val publicKey = createPublicKey(privateKey)\n",
    "\n",
    "println(publicKey.ortOne.joinToString(\", \") + \";\\n\" + publicKey.ortTwo.joinToString(\", \"))"
   ],
   "metadata": {
    "collapsed": false,
    "ExecuteTime": {
     "end_time": "2023-09-23T12:07:10.898839Z",
     "start_time": "2023-09-23T12:07:10.669325500Z"
    }
   }
  },
  {
   "cell_type": "markdown",
   "source": [
    "Sipher шифруем данные открытым ключем\n",
    "Дешифруем данные приватным ключем и публичным\n",
    "Сравниваем время в зависимости от измерения"
   ],
   "metadata": {
    "collapsed": false
   }
  },
  {
   "cell_type": "code",
   "execution_count": null,
   "outputs": [],
   "source": [],
   "metadata": {
    "collapsed": false
   }
  }
 ],
 "metadata": {
  "kernelspec": {
   "display_name": "Kotlin",
   "language": "kotlin",
   "name": "kotlin"
  },
  "language_info": {
   "name": "kotlin",
   "version": "1.9.0",
   "mimetype": "text/x-kotlin",
   "file_extension": ".kt",
   "pygments_lexer": "kotlin",
   "codemirror_mode": "text/x-kotlin",
   "nbconvert_exporter": ""
  }
 },
 "nbformat": 4,
 "nbformat_minor": 0
}
